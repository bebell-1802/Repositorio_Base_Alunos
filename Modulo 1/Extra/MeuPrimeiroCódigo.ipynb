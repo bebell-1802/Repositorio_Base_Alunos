{
 "cells": [
  {
   "cell_type": "markdown",
   "id": "541af6f4",
   "metadata": {},
   "source": [
    "### Meu primeiro código"
   ]
  },
  {
   "cell_type": "code",
   "execution_count": 2,
   "id": "9a2fc22a",
   "metadata": {},
   "outputs": [
    {
     "name": "stdout",
     "output_type": "stream",
     "text": [
      "Olá mundo esse é meu primeiro programa, lá ele...\n",
      "Isabelly\n",
      "17\n"
     ]
    }
   ],
   "source": [
    "print(\"Olá mundo esse é meu primeiro programa, lá ele...\")\n",
    "print(\"Isabelly\")\n",
    "print(\"17\")\n"
   ]
  },
  {
   "cell_type": "markdown",
   "id": "5fd7c41d",
   "metadata": {},
   "source": [
    "### Outros prints"
   ]
  },
  {
   "cell_type": "code",
   "execution_count": 2,
   "id": "dfdc8d35",
   "metadata": {},
   "outputs": [
    {
     "name": "stdout",
     "output_type": "stream",
     "text": [
      "14\n",
      "49\n",
      "267\n",
      "2.5\n"
     ]
    }
   ],
   "source": [
    "print(9+5)\n",
    "print(7*7)\n",
    "print(589-322)\n",
    "print(5/2)"
   ]
  },
  {
   "cell_type": "markdown",
   "id": "bafe987b",
   "metadata": {},
   "source": [
    "### Input"
   ]
  },
  {
   "cell_type": "code",
   "execution_count": null,
   "id": "dd4c2144",
   "metadata": {},
   "outputs": [
    {
     "data": {
      "text/plain": [
       "'Isabelly'"
      ]
     },
     "execution_count": 3,
     "metadata": {},
     "output_type": "execute_result"
    }
   ],
   "source": [
    "input(\"Me diz seu nome?\")"
   ]
  },
  {
   "cell_type": "markdown",
   "id": "e8db55de",
   "metadata": {},
   "source": [
    "### Variável"
   ]
  },
  {
   "cell_type": "code",
   "execution_count": 17,
   "id": "a36ab221",
   "metadata": {},
   "outputs": [
    {
     "name": "stdout",
     "output_type": "stream",
     "text": [
      "Isabelly\n",
      "17\n",
      "2009\n"
     ]
    }
   ],
   "source": [
    "nomes = input(\"Me diz seu nome?\")\n",
    "print(nomes)\n",
    "idade = input(\"qual sua idade?\")\n",
    "print(idade)\n",
    "nascimento = 2009\n",
    "ano_atual = 2025\n",
    "print(nascimento)"
   ]
  },
  {
   "cell_type": "code",
   "execution_count": 20,
   "id": "e50760ac",
   "metadata": {},
   "outputs": [
    {
     "name": "stdout",
     "output_type": "stream",
     "text": [
      "26\n"
     ]
    }
   ],
   "source": [
    "nascimento = 1999\n",
    "ano_atual = 2025\n",
    "print(ano_atual - nascimento)"
   ]
  },
  {
   "cell_type": "code",
   "execution_count": 22,
   "id": "a9bc93e3",
   "metadata": {},
   "outputs": [
    {
     "name": "stdout",
     "output_type": "stream",
     "text": [
      "-----------------------------------------\n",
      "----------JOGO DO TIGRINHO---------------\n",
      "bem vindo ao jogo se eu adivinhar o número, me deve sinquentão\n",
      "o número foi 20000\n"
     ]
    }
   ],
   "source": [
    "print(\"-----------------------------------------\")\n",
    "print(\"----------JOGO DO TIGRINHO---------------\")\n",
    "print(\"bem vindo ao jogo se eu adivinhar o número, me deve sinquentão\")\n",
    "\n",
    "numero = input(\"digite um número, qualquer um\")\n",
    "print(f\"o número foi {numero}\")"
   ]
  },
  {
   "cell_type": "markdown",
   "id": "4fa382be",
   "metadata": {},
   "source": [
    "### Carro dos sonhos "
   ]
  },
  {
   "cell_type": "code",
   "execution_count": 33,
   "id": "1bbcc9eb",
   "metadata": {},
   "outputs": [
    {
     "name": "stdout",
     "output_type": "stream",
     "text": [
      "fiat toro\n",
      "80000.0\n",
      "branca\n",
      "150.0\n",
      "nome do carro é fiat toro\n",
      "valor do carro 80000.0\n",
      "cor do carro branca\n",
      "quanto tem de dinheiro 150.0\n",
      "79850.0\n"
     ]
    }
   ],
   "source": [
    "## vou pedir pro usuario o nome do carro ou moto que ele sonha\n",
    "## preço\n",
    "## a cor do carro\n",
    "# quanto o usuario tem de dinheiro\n",
    "## no final mostre as informações que o usuario digitou\n",
    "\n",
    "carro = input(\" qual o nome do carro?\")\n",
    "print(carro)\n",
    "preço = float(input(\"qual o preço do carro?\"))\n",
    "print(preço)\n",
    "cor = input(\"qual a cor do carro?\")\n",
    "print(cor)\n",
    "dinheiro = float(input(\"quanto você tem?\"))\n",
    "print(dinheiro)\n",
    "print(f\"nome do carro é {carro}\")\n",
    "print(f\"valor do carro {preço}\")\n",
    "print(f\"cor do carro {cor}\")\n",
    "print(f\"quanto tem de dinheiro {dinheiro}\")\n",
    "\n",
    "quanto_falta = preço - dinheiro\n",
    "print(quanto_falta)\n"
   ]
  },
  {
   "cell_type": "markdown",
   "id": "55fc00ff",
   "metadata": {},
   "source": [
    "### Contatinho "
   ]
  },
  {
   "cell_type": "code",
   "execution_count": null,
   "id": "e554e9b6",
   "metadata": {},
   "outputs": [
    {
     "name": "stdout",
     "output_type": "stream",
     "text": [
      "Bell\n",
      "18\n",
      "3465874968\n",
      "seu nome- Bell, seu 3465874968, sua idade 18\n"
     ]
    }
   ],
   "source": [
    "nome = input(\"qual seu nome?\")\n",
    "print(nome)\n",
    "idade = int(input(\"qual sua idade?\"))\n",
    "print(idade)\n",
    "zap = input(\"qual seu whatsapp?\")\n",
    "print(zap)\n",
    "print(f\"seu nome- {nome}, seu zap {zap}, sua idade {idade}\")\n"
   ]
  },
  {
   "cell_type": "markdown",
   "id": "b7db68d0",
   "metadata": {},
   "source": [
    "### Operadores"
   ]
  },
  {
   "cell_type": "code",
   "execution_count": null,
   "id": "e6428466",
   "metadata": {},
   "outputs": [
    {
     "name": "stdout",
     "output_type": "stream",
     "text": [
      "IsabellyGiovanna\n",
      "True\n",
      "False\n",
      "True\n",
      "False\n"
     ]
    }
   ],
   "source": [
    "# Operadores matematicos\n",
    "# +\n",
    "# -\n",
    "# *\n",
    "# /\n",
    "\n",
    "print(\"Isabelly\" + \"Giovanna\")\n",
    "\n",
    "# Operadores lógicos \n",
    "\n",
    "# recebe ou atribui algo\n",
    "\n",
    "nome = \"Isabelly\"\n",
    "\n",
    "# < > boquinha de jacaré\n",
    "print(10>5)\n",
    "print(10<5)\n",
    "\n",
    "#diferente !=\n",
    "\n",
    "print(5 != 10)\n",
    "\n",
    "#igual ==\n",
    "\n",
    "print(\"a\" == \"b\")\n",
    "\n",
    "# => igual ou maior\n",
    "\n"
   ]
  },
  {
   "cell_type": "markdown",
   "id": "06c20d67",
   "metadata": {},
   "source": [
    "### Condicional "
   ]
  },
  {
   "cell_type": "code",
   "execution_count": 6,
   "id": "d23b7226",
   "metadata": {},
   "outputs": [
    {
     "name": "stdout",
     "output_type": "stream",
     "text": [
      "muito boom\n"
     ]
    }
   ],
   "source": [
    "nome = input(\"digite o seu nome\")\n",
    "\n",
    "if nome == \"Isa\":\n",
    "    print (\"muito boom\")\n",
    "else:\n",
    "    print (\"errouuu\")"
   ]
  }
 ],
 "metadata": {
  "kernelspec": {
   "display_name": "Python 3",
   "language": "python",
   "name": "python3"
  },
  "language_info": {
   "codemirror_mode": {
    "name": "ipython",
    "version": 3
   },
   "file_extension": ".py",
   "mimetype": "text/x-python",
   "name": "python",
   "nbconvert_exporter": "python",
   "pygments_lexer": "ipython3",
   "version": "3.13.2"
  }
 },
 "nbformat": 4,
 "nbformat_minor": 5
}
