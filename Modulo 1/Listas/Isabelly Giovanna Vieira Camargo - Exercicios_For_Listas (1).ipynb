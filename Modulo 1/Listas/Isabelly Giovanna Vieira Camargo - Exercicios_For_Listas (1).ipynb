{
 "cells": [
  {
   "cell_type": "markdown",
   "id": "d2b6c514",
   "metadata": {},
   "source": [
    "### 🚀 Exercícios Melhorados de Python: Listas e Loops for"
   ]
  },
  {
   "cell_type": "markdown",
   "id": "44a3875e",
   "metadata": {},
   "source": [
    "### 🔍 1. Filtro de Filmes por Gênero 🎬\n",
    "\n",
    "Desafio:\n",
    "\n",
    "Crie um loop for para percorrer a lista de filmes e de gêneros e depois mostre na tela apenas os filmes de ação."
   ]
  },
  {
   "cell_type": "code",
   "execution_count": 13,
   "id": "365515ab",
   "metadata": {},
   "outputs": [
    {
     "name": "stdout",
     "output_type": "stream",
     "text": [
      "Vingadores : Ultimato\n",
      "Velozes e Furiosos\n",
      "Missão Impossível\n"
     ]
    }
   ],
   "source": [
    "filmes = [\"O Poderoso Chefão\", \"Vingadores : Ultimato\", \"Toy Story\", \"Velozes e Furiosos\", \"Missão Impossível\", \"De Volta para o Futuro\",\"Zodiaco\"]\n",
    "generos = [\"Drama\", \"Ação\", \"Animação\", \"Ação\",\"Ação\", \"Aventura\", \"Suspense\"]\n",
    "\n",
    "for i in range(len(filmes)):\n",
    "    if generos[i] == \"Ação\":\n",
    "     print(filmes[i])\n",
    "\n",
    "\n",
    "\n"
   ]
  },
  {
   "cell_type": "markdown",
   "id": "4def914a",
   "metadata": {},
   "source": [
    "Agora crie um código que verfique a nota de cada filme e recomende para o usuário os filmes com notas superioes a 7.0"
   ]
  },
  {
   "cell_type": "code",
   "execution_count": 22,
   "id": "52470059",
   "metadata": {},
   "outputs": [
    {
     "name": "stdout",
     "output_type": "stream",
     "text": [
      "O Poderoso Chefão ,9.0\n",
      "Vingadores : Ultimato ,9.5\n",
      "Toy Story ,10\n",
      "Missão Impossível ,8.0\n",
      "De Volta para o Futuro ,10\n",
      "Zodiaco ,9.8\n"
     ]
    }
   ],
   "source": [
    "filmes = [\"O Poderoso Chefão\", \"Vingadores : Ultimato\", \"Toy Story\", \"Velozes e Furiosos\", \"Missão Impossível\", \"De Volta para o Futuro\", \"Zodiaco\", \"Thunderbolts\"]\n",
    "generos = [\"Drama\", \"Ação\", \"Animação\", \"Ação\",\"Ação\", \"Aventura\", \"Suspense\"]\n",
    "notas_filmes = [9.0, 9.5, 10, 5.2, 8.0, 10, 9.8, 5.5]\n",
    "\n",
    "for i in range(len(filmes)):\n",
    "    if notas_filmes[i] > 7.0:\n",
    "        print(f\"{filmes[i]} ,{notas_filmes[i]}\")\n",
    "\n",
    "### Seu código aqui"
   ]
  },
  {
   "cell_type": "markdown",
   "id": "4fca3773",
   "metadata": {},
   "source": [
    "### 🎯 2. Jogo de Adivinhação com Dicas �"
   ]
  },
  {
   "cell_type": "markdown",
   "id": "03b72809",
   "metadata": {},
   "source": [
    "Crie um jogo onde:\n",
    "\n",
    "✅ O programa escolhe uma palavra secreta aleatória de uma lista (ex: [\"banana\", \"abacaxi\", \"morango\"]).\n",
    "\n",
    "\n",
    "✅ O usuário tem 3 tentativas para adivinhar.\n",
    "\n",
    "\n",
    "\n",
    "✅ A cada erro, o programa dá uma dica (ex: \"Tem [x] letras\" ou \"Começa com [letra]\").\n",
    "\n",
    "\n",
    "\n",
    "\n",
    "✅ Use um loop for para controlar as tentativas e, se acertar, imprima \"🎉 Você ganhou! A palavra era [X]\".\n",
    "\n"
   ]
  },
  {
   "cell_type": "code",
   "execution_count": 24,
   "id": "ae165f8c",
   "metadata": {},
   "outputs": [
    {
     "name": "stdout",
     "output_type": "stream",
     "text": [
      "suas tentativas acabaram!\n",
      "Parabéns, Você acertou 🎉 !!!\n"
     ]
    }
   ],
   "source": [
    "palavras_secretas = [\"banana\", \"abacaxi\", \"morango\", \"Tecknológia\"]\n",
    "\n",
    "### Seu código\n",
    "palavra_certa = palavras_secretas[-1]\n",
    "\n",
    "### Tentativas\n",
    "tentativas = 3\n",
    "\n",
    "\n",
    "### Looping for\n",
    "for tentativa in range(tentativas):\n",
    "    palpite = input(\"Dê o seu Palpite\")\n",
    "    if palpite == palavra_certa:\n",
    "        print(\"Parabéns, Você acertou 🎉 !!!\")\n",
    "        break\n",
    "\n",
    "    else:\n",
    "\n",
    "\n",
    "\n",
    "         #dicas após erro\n",
    "         if tentativa == 1:\n",
    "             print(f\"dica: a palavra tem {len(palavra_certa)} letras.\")\n",
    "\n",
    "         elif tentativa ==2:\n",
    "             print(f\"dica: a palavra começa com {palavra_certa[0]}\")\n",
    "         else:\n",
    "             print(f\"suas tentativas acabaram!\")\n",
    "                    \n",
    "\n",
    "\n",
    "\n",
    "\n",
    "\n",
    "\n"
   ]
  },
  {
   "cell_type": "markdown",
   "id": "8c04f1b7",
   "metadata": {},
   "source": [
    "### 📊 3. Análise de Dados de Redes Sociais 📱"
   ]
  },
  {
   "cell_type": "markdown",
   "id": "939eeec4",
   "metadata": {},
   "source": [
    "Você tem uma lista de likes por postagem:\n",
    "\n",
    "Desafio:\n",
    "\n",
    "Calcule a média de likes.\n",
    "\n",
    "\n",
    "Identifique quantos posts estão acima da média e print:\n",
    "\n",
    "\n",
    "\"📈 [X] posts bombaram (+ que [média] likes)\""
   ]
  },
  {
   "cell_type": "code",
   "execution_count": 30,
   "id": "5b380686",
   "metadata": {},
   "outputs": [
    {
     "name": "stdout",
     "output_type": "stream",
     "text": [
      "total de likes: 984\n",
      "media de likes:  164.00\n",
      "influencers com likes acima da média:\n",
      "- Carlinhos Maia , 245 likes\n",
      "- Poze , 310 likes\n",
      "- Zé Felipe , 178 likes\n"
     ]
    }
   ],
   "source": [
    "## Nome dos influencers\n",
    "influencers = [\"Virginia\", \"Carlinhos Maia\", \"Deolane\", \"Poze\", \"Matheus Costa\",\"Zé Felipe\"]\n",
    "### likes por post\n",
    "like_posts = [120, 245, 89, 310, 42, 178] \n",
    "## Calcula o total de likes da lista\n",
    "total_likes = sum(like_posts)\n",
    "\n",
    "# Sua vez calcule á media de likes\n",
    "media = total_likes/len(like_posts)\n",
    "# Depois veja qual influencer teve likes acima da média\n",
    "print(f\"total de likes: {total_likes}\")\n",
    "print(f\"media de likes: {media: .2f}\")\n",
    "\n",
    "print(\"influencers com likes acima da média:\")\n",
    "for i in range(len(like_posts)):\n",
    "    if like_posts[i] > media:\n",
    "        print(f\"- {influencers[i]} , {like_posts[i]} likes\")\n",
    "\n",
    "\n"
   ]
  },
  {
   "cell_type": "markdown",
   "id": "d7cfa84f",
   "metadata": {},
   "source": [
    "### 🎯 Bônus Extra: Desafio dos Emojis Aleatórios\n",
    "\n",
    "✅ Gere uma lista de 10 emojis aleatórios (use [\"🐍\", \"🔥\", \"🎮\", \"👾\", \"🚀\"]) e:\n",
    "\n",
    "✅ Conte quantas vezes \"🔥\" aparece.\n",
    "\n",
    "\n",
    "✅ Substitua \"🎮\" por \"💻\".\n",
    "\n",
    "\n",
    "✅ Print a lista final."
   ]
  },
  {
   "cell_type": "code",
   "execution_count": 35,
   "id": "28ab2513",
   "metadata": {},
   "outputs": [
    {
     "name": "stdout",
     "output_type": "stream",
     "text": [
      "4\n",
      "['🐍', '🔥', '💻', '👾', '🚀', '🔥', '🔥', '🔥', '🔥🔥🚀🔥🔥🔥🚀🔥🔥🔥🔥👾🔥🔥🔥🔥🔥🚀🔥🔥🔥🔥🔥🔥🔥👾🔥🔥🔥🔥🔥🔥🔥🚀🔥🔥🔥', '🔥🔥']\n"
     ]
    }
   ],
   "source": [
    "lista_emojis = [\"🐍\", \"🔥\", \"🎮\", \"👾\", \"🚀\",\"🔥\",\"🔥\",\"🔥\",\"🔥🔥🚀🔥🔥🔥🚀🔥🔥🔥🔥👾🔥🔥🔥🔥🔥🚀🔥🔥🔥🔥🔥🔥🔥👾🔥🔥🔥🔥🔥🔥🔥🚀🔥🔥🔥\",\"🔥🔥\"]\n",
    "\n",
    "conta_fogo = lista_emojis.count(\"🔥\")\n",
    "print(conta_fogo)\n",
    "\n",
    "lista_emojis[2] = \"💻\"\n",
    "print(lista_emojis)"
   ]
  }
 ],
 "metadata": {
  "kernelspec": {
   "display_name": "Python 3",
   "language": "python",
   "name": "python3"
  },
  "language_info": {
   "codemirror_mode": {
    "name": "ipython",
    "version": 3
   },
   "file_extension": ".py",
   "mimetype": "text/x-python",
   "name": "python",
   "nbconvert_exporter": "python",
   "pygments_lexer": "ipython3",
   "version": "3.13.2"
  }
 },
 "nbformat": 4,
 "nbformat_minor": 5
}
