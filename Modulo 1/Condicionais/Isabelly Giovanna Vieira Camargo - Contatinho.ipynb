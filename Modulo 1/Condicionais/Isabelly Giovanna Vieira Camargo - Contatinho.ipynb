{
 "cells": [
  {
   "cell_type": "markdown",
   "id": "5412454e",
   "metadata": {},
   "source": [
    "### Contatinho\n",
    "\n",
    "Crie um código para saber se quem te chamou no zap, se for igual ao nome do seu crush(a). se sim print(\"Te amo <3\") se não print(\"Sai fora\")\n"
   ]
  },
  {
   "cell_type": "code",
   "execution_count": null,
   "id": "1740d517",
   "metadata": {},
   "outputs": [
    {
     "name": "stdout",
     "output_type": "stream",
     "text": [
      "filme ruiim\n"
     ]
    }
   ],
   "source": [
    "meu_filme = \"doutor estranho\"\n",
    "seu_filme = input(\"digite seu filme favorito\")\n",
    "if seu_filme == meu_filme:\n",
    "    print(\"que filme booom\")\n",
    "else:\n",
    "    print (\"filme ruiim\")"
   ]
  },
  {
   "cell_type": "code",
   "execution_count": 7,
   "id": "ee1a35be",
   "metadata": {},
   "outputs": [
    {
     "name": "stdout",
     "output_type": "stream",
     "text": [
      "sai fora filhote de tinhoso\n"
     ]
    }
   ],
   "source": [
    "nome_zap = input(\"Informe o nome de quem te chamou no zap:\")\n",
    "numero_zap = input(\"Infome o número de quem te chamou\")\n",
    "crush = \"sukuna\"\n",
    "zap_crush = 123456789\n",
    "\n",
    "\n",
    "if nome_zap == crush and numero_zap == zap_crush:\n",
    "    print(\"brota aqui em casa,rsrsrr\")\n",
    "else: \n",
    "    print (\"sai fora filhote de tinhoso\")"
   ]
  },
  {
   "cell_type": "markdown",
   "id": "c80cfb05",
   "metadata": {},
   "source": [
    "### CNH"
   ]
  },
  {
   "cell_type": "code",
   "execution_count": 13,
   "id": "d081dcc9",
   "metadata": {},
   "outputs": [
    {
     "name": "stdout",
     "output_type": "stream",
     "text": [
      "não pode dirigir\n"
     ]
    }
   ],
   "source": [
    "# 1- perguntar o nomidade do usuario\n",
    "# 2- perguntar se tem cnh\n",
    "# 3- verificar se tem 18 ou mais; verificar se possui cnh\n",
    "# 4- se o usuario possui cnh e tiver idade de 18 ou mais, print, (\"pode dirigir\")\n",
    "# 5- se não, não pode dirigir\n",
    "\n",
    "idade = int(input(\"quantos anos você tem?\")) \n",
    "cnh = input(\"tem cnh?\")\n",
    "\n",
    "if idade >=18 and cnh == \"sim\": \n",
    "    print(\"pode dirigir\")\n",
    "else:\n",
    "    print(\"não pode dirigir\")\n",
    "\n"
   ]
  },
  {
   "cell_type": "markdown",
   "id": "36de59b3",
   "metadata": {},
   "source": [
    "### Calcula média"
   ]
  },
  {
   "cell_type": "code",
   "execution_count": null,
   "id": "5eb35b19",
   "metadata": {},
   "outputs": [
    {
     "name": "stdout",
     "output_type": "stream",
     "text": [
      "reprovado, sua média foi 2.0\n"
     ]
    }
   ],
   "source": [
    "# 1- passo -  pedir ao usuario 3 notas, ou seja, primeira nota, segunda nota, terceira nora.\n",
    "# 2- passo - calcular a média das 3 notas\n",
    "# 3- passo - verificar utilizando IF e else se a nota do aluno foi 5 ou mais, se ele está aprovado ou não\n",
    "\n",
    "nota_1 = float(input(\"nota em artes\"))\n",
    "nota_2 = float(input(\"nota em história\"))\n",
    "nota_3 = float(input(\"nota em inglês\"))\n",
    "\n",
    "media = (nota_1 + nota_2 + nota_3) /3\n",
    "if media >=5:\n",
    "    print(f\"aprovado, sua média foi {media}\")\n",
    "else: \n",
    "    print(f\"reprovado, sua média foi {media}\")"
   ]
  },
  {
   "cell_type": "markdown",
   "id": "5dec3cf9",
   "metadata": {},
   "source": [
    "### Elif"
   ]
  },
  {
   "cell_type": "code",
   "execution_count": null,
   "id": "35abb693",
   "metadata": {},
   "outputs": [],
   "source": [
    "nota_1 = float(input(\"nota em artes\"))\n",
    "nota_2 = float(input(\"nota em história\"))\n",
    "nota_3 = float(input(\"nota em inglês\"))\n",
    "\n",
    "media = (nota_1 + nota_2 + nota_3) /3\n",
    "if media >=5:\n",
    "    print(f\"aprovado, sua média foi {media}\")\n",
    "\n",
    "elif media = 4:\n",
    "    print(\"sua média foi de {media} você está de recupeção\")\n",
    "\n",
    "elif media = 2:\n",
    "    print(\"sua média foi de {media}, precisa estudar mais\")\n",
    "\n",
    "    elif media = 1:\n",
    "    print(\"sua média foi de {media}, jegue burro\")\n",
    "\n",
    "else: \n",
    "    print(f\"reprovado, sua média foi {media}\")\n",
    "\n",
    "# elif"
   ]
  },
  {
   "cell_type": "markdown",
   "id": "f855e4db",
   "metadata": {},
   "source": [
    "### Dia da Semana"
   ]
  },
  {
   "cell_type": "code",
   "execution_count": 16,
   "id": "1952e30a",
   "metadata": {},
   "outputs": [
    {
     "name": "stdout",
     "output_type": "stream",
     "text": [
      "por favor, digite um número válido de 1 até 7.\n"
     ]
    }
   ],
   "source": [
    "# 1- pedir para o usuario digitar um numero inteiro de 1 até 7\n",
    "# 2- se ele digitou 7 = a sabado, se digitou 1 = a domingo, digitou 2 = segunda\n",
    "# 3- utilise os elifs da vida\n",
    " \n",
    "numero = int(input(\"um número\"))\n",
    "\n",
    "if numero == 1:\n",
    "    print(\"domingo\")\n",
    "elif numero == 2:\n",
    "    print(\"segunda\")\n",
    "elif numero == 3:\n",
    "    print(\"terça\")\n",
    "elif numero == 4:\n",
    "    print(\"quarta\")\n",
    "elif numero == 5:\n",
    "    print(\"quinta\")\n",
    "elif numero == 6:\n",
    "    print(\"sexta\")\n",
    "elif numero == 7:\n",
    "    print(\"sábado\")\n",
    "\n",
    "else:\n",
    "    print(\"por favor, digite um número válido de 1 até 7.\")\n"
   ]
  },
  {
   "cell_type": "markdown",
   "id": "da1fb43e",
   "metadata": {},
   "source": [
    "### Temperatura"
   ]
  },
  {
   "cell_type": "code",
   "execution_count": 29,
   "id": "3e7a1a2e",
   "metadata": {},
   "outputs": [
    {
     "name": "stdout",
     "output_type": "stream",
     "text": [
      "extinção da raça humana\n"
     ]
    }
   ],
   "source": [
    "# 1- pedir temoeratura\n",
    "# 2- se a temperatura for maior que 32, calor do inferno\n",
    "# 3- se atemperatura for 27, esta começando a esfriar\n",
    "# 4- se for entre 20 até 25, está agradavel\n",
    "# 5- se atemperatura for menor que 20, frio\n",
    "# 6- se a temperatura for igual 0, morreu\n",
    "\n",
    "temperatura = int(input(\"temperatura do dia\"))\n",
    "\n",
    "if temperatura >=32:\n",
    "    print(\"calor infernal\")\n",
    "elif temperatura == 27:\n",
    "    print(\" esta esfriando\")\n",
    "elif temperatura >=20 and temperatura <=25:\n",
    "    print(\"agradavel\")\n",
    "elif temperatura > 0 and temperatura <= 20:\n",
    "    print(\"frio\")\n",
    "elif temperatura == 0:\n",
    "    print(\"extinção da raça humana\")\n"
   ]
  },
  {
   "cell_type": "markdown",
   "id": "54547103",
   "metadata": {},
   "source": [
    "### Contatinho v2"
   ]
  },
  {
   "cell_type": "code",
   "execution_count": 34,
   "id": "4b96bd71",
   "metadata": {},
   "outputs": [
    {
     "name": "stdout",
     "output_type": "stream",
     "text": [
      "chega mais,bb\n"
     ]
    }
   ],
   "source": [
    "nome = input(\"digite o nome\")\n",
    "titular = \"Dean\"\n",
    "reserva = \"Deymon\"\n",
    "\n",
    "if nome == titular:\n",
    "    print(\"chega mais,bb\")\n",
    "\n",
    "elif nome == reserva:\n",
    "    print(\"meu homen\")\n",
    "\n",
    "else:\n",
    "    print(\"saia filhote de tinhoso\")\n"
   ]
  }
 ],
 "metadata": {
  "kernelspec": {
   "display_name": "Python 3",
   "language": "python",
   "name": "python3"
  },
  "language_info": {
   "codemirror_mode": {
    "name": "ipython",
    "version": 3
   },
   "file_extension": ".py",
   "mimetype": "text/x-python",
   "name": "python",
   "nbconvert_exporter": "python",
   "pygments_lexer": "ipython3",
   "version": "3.13.2"
  }
 },
 "nbformat": 4,
 "nbformat_minor": 5
}
