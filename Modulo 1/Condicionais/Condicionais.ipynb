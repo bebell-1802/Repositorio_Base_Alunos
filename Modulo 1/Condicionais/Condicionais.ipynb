{
 "cells": [
  {
   "cell_type": "markdown",
   "id": "cac49071",
   "metadata": {},
   "source": [
    "### Verifica Idade"
   ]
  },
  {
   "cell_type": "code",
   "execution_count": 3,
   "id": "1334c216",
   "metadata": {},
   "outputs": [
    {
     "name": "stdout",
     "output_type": "stream",
     "text": [
      "menor de idade\n"
     ]
    }
   ],
   "source": [
    "idade = int(input(\"digite sua idade\"))\n",
    "\n",
    "if idade >=18:\n",
    "    print (\"maior de idade\")\n",
    "\n",
    "else: \n",
    "    print (\"menor de idade\")\n",
    "\n",
    "\n"
   ]
  },
  {
   "cell_type": "markdown",
   "id": "cff8b6b2",
   "metadata": {},
   "source": [
    "### filme bom"
   ]
  }
 ],
 "metadata": {
  "kernelspec": {
   "display_name": "Python 3",
   "language": "python",
   "name": "python3"
  },
  "language_info": {
   "codemirror_mode": {
    "name": "ipython",
    "version": 3
   },
   "file_extension": ".py",
   "mimetype": "text/x-python",
   "name": "python",
   "nbconvert_exporter": "python",
   "pygments_lexer": "ipython3",
   "version": "3.13.2"
  }
 },
 "nbformat": 4,
 "nbformat_minor": 5
}
